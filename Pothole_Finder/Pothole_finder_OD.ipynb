{
 "cells": [
  {
   "cell_type": "markdown",
   "metadata": {},
   "source": [
    "# Developing an AI application to detect potholes \n",
    "\n",
    "This notebook works through 3 classifications of common objects on the road: stoplights, cars, and potholes. The Tesla 2020.12* software already includes cars, cones, stoplights/signs, humans, bikes, and road markings, but not potholes. \n",
    "A list of the models can be found here https://pytorch.org/docs/stable/torchvision/models.html_.\n",
    "\n",
    "The project is broken down into multiple steps:\n",
    "1. Extract frames from video footage\n",
    "2. Define object classes within the images \n",
    "\n"
   ]
  },
  {
   "cell_type": "markdown",
   "metadata": {},
   "source": [
    "### Extract frames from video: \n",
    "\n",
    "- run extract_video.py on each of the files\n",
    "- TeslaCam records at 36 fps. I only utilized every 1 in 10 frames. \n",
    "\n",
    "### Define object classes: \n",
    "\n",
    "- run the Python GUI in the director for each class\n",
    "- draw boxes around the object and a file with coordinates it automatically written out"
   ]
  },
  {
   "cell_type": "code",
   "execution_count": null,
   "metadata": {},
   "outputs": [],
   "source": []
  }
 ],
 "metadata": {
  "kernelspec": {
   "display_name": "Python 3",
   "language": "python",
   "name": "python3"
  },
  "language_info": {
   "codemirror_mode": {
    "name": "ipython",
    "version": 3
   },
   "file_extension": ".py",
   "mimetype": "text/x-python",
   "name": "python",
   "nbconvert_exporter": "python",
   "pygments_lexer": "ipython3",
   "version": "3.6.8"
  }
 },
 "nbformat": 4,
 "nbformat_minor": 2
}
